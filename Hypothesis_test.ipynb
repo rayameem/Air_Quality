{
  "metadata": {
    "kernelspec": {
      "name": "python",
      "display_name": "Python (Pyodide)",
      "language": "python"
    },
    "language_info": {
      "codemirror_mode": {
        "name": "python",
        "version": 3
      },
      "file_extension": ".py",
      "mimetype": "text/x-python",
      "name": "python",
      "nbconvert_exporter": "python",
      "pygments_lexer": "ipython3",
      "version": "3.8"
    }
  },
  "nbformat_minor": 4,
  "nbformat": 4,
  "cells": [
    {
      "cell_type": "code",
      "source": "#construct a hypothesis test and an accompanying visualization",
      "metadata": {
        "trusted": true
      },
      "outputs": [],
      "execution_count": 1
    },
    {
      "cell_type": "code",
      "source": "## IMPORTS",
      "metadata": {
        "trusted": true
      },
      "outputs": [],
      "execution_count": null
    },
    {
      "cell_type": "code",
      "source": "import pandas as pd\nimport numpy as np\nfrom scipy import stats\n",
      "metadata": {
        "trusted": true
      },
      "outputs": [],
      "execution_count": 5
    },
    {
      "cell_type": "code",
      "source": "aqi = pd.read_csv(r\"air_quality.csv\")",
      "metadata": {
        "trusted": true
      },
      "outputs": [],
      "execution_count": 6
    },
    {
      "cell_type": "code",
      "source": "## EDA",
      "metadata": {
        "trusted": true
      },
      "outputs": [],
      "execution_count": null
    },
    {
      "cell_type": "code",
      "source": "print(\"use head() to show a sample of data\")\nprint(aqi.head())\n\nprint(\"use describe() to summerzie AQI\")\nprint(aqi.describe(include=\"all\"))\n\nprint(\"for a more throuhgout examination of observations by state use values_counts()\")\nprint(aqi[\"state_name\"].value_counts())\n\nprint(\"for a more\")",
      "metadata": {
        "trusted": true
      },
      "outputs": [
        {
          "name": "stdout",
          "text": "use head() to show a sample of data\n   Unnamed: 0  date_local    state_name   county_name      city_name  \\\n0           0  2018-01-01       Arizona      Maricopa        Buckeye   \n1           1  2018-01-01          Ohio       Belmont      Shadyside   \n2           2  2018-01-01       Wyoming         Teton  Not in a city   \n3           3  2018-01-01  Pennsylvania  Philadelphia   Philadelphia   \n4           4  2018-01-01          Iowa          Polk     Des Moines   \n\n                                     local_site_name   parameter_name  \\\n0                                            BUCKEYE  Carbon monoxide   \n1                                          Shadyside  Carbon monoxide   \n2  Yellowstone National Park - Old Faithful Snow ...  Carbon monoxide   \n3                             North East Waste (NEW)  Carbon monoxide   \n4                                          CARPENTER  Carbon monoxide   \n\n    units_of_measure  arithmetic_mean  aqi  \n0  Parts per million         0.473684    7  \n1  Parts per million         0.263158    5  \n2  Parts per million         0.111111    2  \n3  Parts per million         0.300000    3  \n4  Parts per million         0.215789    3  \nuse describe() to summerzie AQI\n        Unnamed: 0  date_local  state_name  county_name      city_name  \\\ncount   260.000000         260         260          260            260   \nunique         NaN           1          52          149            190   \ntop            NaN  2018-01-01  California  Los Angeles  Not in a city   \nfreq           NaN         260          66           14             21   \nmean    129.500000         NaN         NaN          NaN            NaN   \nstd      75.199734         NaN         NaN          NaN            NaN   \nmin       0.000000         NaN         NaN          NaN            NaN   \n25%      64.750000         NaN         NaN          NaN            NaN   \n50%     129.500000         NaN         NaN          NaN            NaN   \n75%     194.250000         NaN         NaN          NaN            NaN   \nmax     259.000000         NaN         NaN          NaN            NaN   \n\n       local_site_name   parameter_name   units_of_measure  arithmetic_mean  \\\ncount              257              260                260       260.000000   \nunique             253                1                  1              NaN   \ntop            Kapolei  Carbon monoxide  Parts per million              NaN   \nfreq                 2              260                260              NaN   \nmean               NaN              NaN                NaN         0.403169   \nstd                NaN              NaN                NaN         0.317902   \nmin                NaN              NaN                NaN         0.000000   \n25%                NaN              NaN                NaN         0.200000   \n50%                NaN              NaN                NaN         0.276315   \n75%                NaN              NaN                NaN         0.516009   \nmax                NaN              NaN                NaN         1.921053   \n\n               aqi  \ncount   260.000000  \nunique         NaN  \ntop            NaN  \nfreq           NaN  \nmean      6.757692  \nstd       7.061707  \nmin       0.000000  \n25%       2.000000  \n50%       5.000000  \n75%       9.000000  \nmax      50.000000  \nfor a more throuhgout examination of observations by state use values_counts()\nstate_name\nCalifornia              66\nArizona                 14\nOhio                    12\nFlorida                 12\nTexas                   10\nNew York                10\nPennsylvania            10\nMichigan                 9\nColorado                 9\nMinnesota                7\nNew Jersey               6\nIndiana                  5\nNorth Carolina           4\nMassachusetts            4\nMaryland                 4\nOklahoma                 4\nVirginia                 4\nNevada                   4\nConnecticut              4\nKentucky                 3\nMissouri                 3\nWyoming                  3\nIowa                     3\nHawaii                   3\nUtah                     3\nVermont                  3\nIllinois                 3\nNew Hampshire            2\nDistrict Of Columbia     2\nNew Mexico               2\nMontana                  2\nOregon                   2\nAlaska                   2\nGeorgia                  2\nWashington               2\nIdaho                    2\nNebraska                 2\nRhode Island             2\nTennessee                2\nMaine                    2\nSouth Carolina           1\nPuerto Rico              1\nArkansas                 1\nKansas                   1\nMississippi              1\nAlabama                  1\nLouisiana                1\nDelaware                 1\nSouth Dakota             1\nWest Virginia            1\nNorth Dakota             1\nWisconsin                1\nName: count, dtype: int64\nfor a more\n",
          "output_type": "stream"
        }
      ],
      "execution_count": 7
    },
    {
      "cell_type": "code",
      "source": "## HYPOTHESIS TEST",
      "metadata": {
        "trusted": true
      },
      "outputs": [],
      "execution_count": 8
    },
    {
      "cell_type": "code",
      "source": "# mean AQI in Los Angeles County is statistically different from the rest of California",
      "metadata": {
        "trusted": true
      },
      "outputs": [],
      "execution_count": 9
    },
    {
      "cell_type": "code",
      "source": "CA_LA = aqi[aqi[\"county_name\"]==\"Los Angeles\"]\nCA_OTHER = aqi[(aqi[\"state_name\"]==\"California\") & (aqi[\"county_name\"]!=\"Los Angels\")]",
      "metadata": {
        "trusted": true
      },
      "outputs": [],
      "execution_count": 10
    },
    {
      "cell_type": "code",
      "source": "# 𝐻0 : There is no difference in the mean AQI between Los Angeles County and the rest of California.\n# 𝐻𝐴 : There is a difference in the mean AQI between Los Angeles County and the rest of California.",
      "metadata": {
        "trusted": true
      },
      "outputs": [],
      "execution_count": 14
    },
    {
      "cell_type": "code",
      "source": "significance_level = 0.05\nsignificance_level",
      "metadata": {
        "trusted": true
      },
      "outputs": [
        {
          "execution_count": 11,
          "output_type": "execute_result",
          "data": {
            "text/plain": "0.05"
          },
          "metadata": {}
        }
      ],
      "execution_count": 11
    },
    {
      "cell_type": "code",
      "source": "stats.ttest_ind(a=CA_LA[\"aqi\"], b=CA_OTHER[\"aqi\"], equal_var=False)",
      "metadata": {
        "trusted": true
      },
      "outputs": [
        {
          "execution_count": 12,
          "output_type": "execute_result",
          "data": {
            "text/plain": "TtestResult(statistic=1.664076657643435, pvalue=0.11435587227090667, df=17.05971392363949)"
          },
          "metadata": {}
        }
      ],
      "execution_count": 12
    },
    {
      "cell_type": "code",
      "source": "# New York have a lower AQI than Ohio",
      "metadata": {
        "trusted": true
      },
      "outputs": [],
      "execution_count": 15
    },
    {
      "cell_type": "code",
      "source": "NY=aqi[aqi[\"state_name\"]==\"New York\"]\nOHIO=aqi[aqi[\"state_name\"]==\"Ohio\"]",
      "metadata": {
        "trusted": true
      },
      "outputs": [],
      "execution_count": 16
    },
    {
      "cell_type": "code",
      "source": "# 𝐻0 : The mean AQI of New York is greater than or equal to that of Ohio.\n# 𝐻𝐴 : The mean AQI of New York is below that of Ohio.",
      "metadata": {
        "trusted": true
      },
      "outputs": [],
      "execution_count": 17
    },
    {
      "cell_type": "code",
      "source": "tstat, pvalue = stats.ttest_ind(a=NY[\"aqi\"], b=OHIO[\"aqi\"], alternative=\"less\", equal_var=False)\nprint(tstat)\nprint(pvalue)",
      "metadata": {
        "trusted": true
      },
      "outputs": [
        {
          "name": "stdout",
          "text": "-2.025951038880333\n0.03044650269193468\n",
          "output_type": "stream"
        }
      ],
      "execution_count": 18
    },
    {
      "cell_type": "code",
      "source": "# new policy will affect those states with a mean AQI of 10 or greater. Will Michigan be affected by this new policy",
      "metadata": {
        "trusted": true
      },
      "outputs": [],
      "execution_count": 19
    },
    {
      "cell_type": "code",
      "source": "MICHIGAN=aqi[aqi[\"state_name\"]==\"Michigan\"]",
      "metadata": {
        "trusted": true
      },
      "outputs": [],
      "execution_count": 20
    },
    {
      "cell_type": "code",
      "source": "# 𝐻0 : The mean AQI of Michigan is less than or equal to 10.\n# 𝐻𝐴 : The mean AQI of Michigan is greater than 10.",
      "metadata": {
        "trusted": true
      },
      "outputs": [],
      "execution_count": 21
    },
    {
      "cell_type": "code",
      "source": "tstat, pvalue = stats.ttest_1samp(MICHIGAN[\"aqi\"], 10, alternative=\"greater\")\nprint(tstat)\nprint(pvalue)",
      "metadata": {
        "trusted": true
      },
      "outputs": [
        {
          "name": "stdout",
          "text": "-1.7395913343286131\n0.9399405193140109\n",
          "output_type": "stream"
        }
      ],
      "execution_count": 22
    },
    {
      "cell_type": "code",
      "source": "",
      "metadata": {
        "trusted": true
      },
      "outputs": [],
      "execution_count": null
    }
  ]
}