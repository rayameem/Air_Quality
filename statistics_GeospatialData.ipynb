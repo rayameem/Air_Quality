{
  "metadata": {
    "kernelspec": {
      "name": "python",
      "display_name": "Python (Pyodide)",
      "language": "python"
    },
    "language_info": {
      "codemirror_mode": {
        "name": "python",
        "version": 3
      },
      "file_extension": ".py",
      "mimetype": "text/x-python",
      "name": "python",
      "nbconvert_exporter": "python",
      "pygments_lexer": "ipython3",
      "version": "3.8"
    }
  },
  "nbformat_minor": 4,
  "nbformat": 4,
  "cells": [
    {
      "cell_type": "code",
      "source": "import pandas as pd\nimport numpy as np\n",
      "metadata": {
        "trusted": true
      },
      "outputs": [],
      "execution_count": 6
    },
    {
      "cell_type": "code",
      "source": "epa_data = pd.read_csv(r\"K6dWbZwmSXCnVm2cJklwng_867ace16e19e49ec88e68cc191e66af1_c4_epa_air_quality.csv\", index_col = 0)",
      "metadata": {
        "trusted": true
      },
      "outputs": [],
      "execution_count": 7
    },
    {
      "cell_type": "code",
      "source": "epa_data.head(10)",
      "metadata": {
        "trusted": true
      },
      "outputs": [
        {
          "execution_count": 8,
          "output_type": "execute_result",
          "data": {
            "text/plain": "   date_local    state_name   county_name      city_name  \\\n0  2018-01-01       Arizona      Maricopa        Buckeye   \n1  2018-01-01          Ohio       Belmont      Shadyside   \n2  2018-01-01       Wyoming         Teton  Not in a city   \n3  2018-01-01  Pennsylvania  Philadelphia   Philadelphia   \n4  2018-01-01          Iowa          Polk     Des Moines   \n5  2018-01-01        Hawaii      Honolulu  Not in a city   \n6  2018-01-01        Hawaii      Honolulu  Not in a city   \n7  2018-01-01  Pennsylvania          Erie           Erie   \n8  2018-01-01        Hawaii      Honolulu       Honolulu   \n9  2018-01-01      Colorado       Larimer   Fort Collins   \n\n                                     local_site_name   parameter_name  \\\n0                                            BUCKEYE  Carbon monoxide   \n1                                          Shadyside  Carbon monoxide   \n2  Yellowstone National Park - Old Faithful Snow ...  Carbon monoxide   \n3                             North East Waste (NEW)  Carbon monoxide   \n4                                          CARPENTER  Carbon monoxide   \n5                                            Kapolei  Carbon monoxide   \n6                                            Kapolei  Carbon monoxide   \n7                                                NaN  Carbon monoxide   \n8                                           Honolulu  Carbon monoxide   \n9                      Fort Collins - CSU - S. Mason  Carbon monoxide   \n\n    units_of_measure  arithmetic_mean  aqi  \n0  Parts per million         0.473684    7  \n1  Parts per million         0.263158    5  \n2  Parts per million         0.111111    2  \n3  Parts per million         0.300000    3  \n4  Parts per million         0.215789    3  \n5  Parts per million         0.994737   14  \n6  Parts per million         0.200000    2  \n7  Parts per million         0.200000    2  \n8  Parts per million         0.400000    5  \n9  Parts per million         0.300000    6  ",
            "text/html": "<div>\n<style scoped>\n    .dataframe tbody tr th:only-of-type {\n        vertical-align: middle;\n    }\n\n    .dataframe tbody tr th {\n        vertical-align: top;\n    }\n\n    .dataframe thead th {\n        text-align: right;\n    }\n</style>\n<table border=\"1\" class=\"dataframe\">\n  <thead>\n    <tr style=\"text-align: right;\">\n      <th></th>\n      <th>date_local</th>\n      <th>state_name</th>\n      <th>county_name</th>\n      <th>city_name</th>\n      <th>local_site_name</th>\n      <th>parameter_name</th>\n      <th>units_of_measure</th>\n      <th>arithmetic_mean</th>\n      <th>aqi</th>\n    </tr>\n  </thead>\n  <tbody>\n    <tr>\n      <th>0</th>\n      <td>2018-01-01</td>\n      <td>Arizona</td>\n      <td>Maricopa</td>\n      <td>Buckeye</td>\n      <td>BUCKEYE</td>\n      <td>Carbon monoxide</td>\n      <td>Parts per million</td>\n      <td>0.473684</td>\n      <td>7</td>\n    </tr>\n    <tr>\n      <th>1</th>\n      <td>2018-01-01</td>\n      <td>Ohio</td>\n      <td>Belmont</td>\n      <td>Shadyside</td>\n      <td>Shadyside</td>\n      <td>Carbon monoxide</td>\n      <td>Parts per million</td>\n      <td>0.263158</td>\n      <td>5</td>\n    </tr>\n    <tr>\n      <th>2</th>\n      <td>2018-01-01</td>\n      <td>Wyoming</td>\n      <td>Teton</td>\n      <td>Not in a city</td>\n      <td>Yellowstone National Park - Old Faithful Snow ...</td>\n      <td>Carbon monoxide</td>\n      <td>Parts per million</td>\n      <td>0.111111</td>\n      <td>2</td>\n    </tr>\n    <tr>\n      <th>3</th>\n      <td>2018-01-01</td>\n      <td>Pennsylvania</td>\n      <td>Philadelphia</td>\n      <td>Philadelphia</td>\n      <td>North East Waste (NEW)</td>\n      <td>Carbon monoxide</td>\n      <td>Parts per million</td>\n      <td>0.300000</td>\n      <td>3</td>\n    </tr>\n    <tr>\n      <th>4</th>\n      <td>2018-01-01</td>\n      <td>Iowa</td>\n      <td>Polk</td>\n      <td>Des Moines</td>\n      <td>CARPENTER</td>\n      <td>Carbon monoxide</td>\n      <td>Parts per million</td>\n      <td>0.215789</td>\n      <td>3</td>\n    </tr>\n    <tr>\n      <th>5</th>\n      <td>2018-01-01</td>\n      <td>Hawaii</td>\n      <td>Honolulu</td>\n      <td>Not in a city</td>\n      <td>Kapolei</td>\n      <td>Carbon monoxide</td>\n      <td>Parts per million</td>\n      <td>0.994737</td>\n      <td>14</td>\n    </tr>\n    <tr>\n      <th>6</th>\n      <td>2018-01-01</td>\n      <td>Hawaii</td>\n      <td>Honolulu</td>\n      <td>Not in a city</td>\n      <td>Kapolei</td>\n      <td>Carbon monoxide</td>\n      <td>Parts per million</td>\n      <td>0.200000</td>\n      <td>2</td>\n    </tr>\n    <tr>\n      <th>7</th>\n      <td>2018-01-01</td>\n      <td>Pennsylvania</td>\n      <td>Erie</td>\n      <td>Erie</td>\n      <td>NaN</td>\n      <td>Carbon monoxide</td>\n      <td>Parts per million</td>\n      <td>0.200000</td>\n      <td>2</td>\n    </tr>\n    <tr>\n      <th>8</th>\n      <td>2018-01-01</td>\n      <td>Hawaii</td>\n      <td>Honolulu</td>\n      <td>Honolulu</td>\n      <td>Honolulu</td>\n      <td>Carbon monoxide</td>\n      <td>Parts per million</td>\n      <td>0.400000</td>\n      <td>5</td>\n    </tr>\n    <tr>\n      <th>9</th>\n      <td>2018-01-01</td>\n      <td>Colorado</td>\n      <td>Larimer</td>\n      <td>Fort Collins</td>\n      <td>Fort Collins - CSU - S. Mason</td>\n      <td>Carbon monoxide</td>\n      <td>Parts per million</td>\n      <td>0.300000</td>\n      <td>6</td>\n    </tr>\n  </tbody>\n</table>\n</div>"
          },
          "metadata": {}
        }
      ],
      "execution_count": 8
    },
    {
      "cell_type": "code",
      "source": "epa_data.describe()",
      "metadata": {
        "trusted": true
      },
      "outputs": [
        {
          "execution_count": 9,
          "output_type": "execute_result",
          "data": {
            "text/plain": "       arithmetic_mean         aqi\ncount       260.000000  260.000000\nmean          0.403169    6.757692\nstd           0.317902    7.061707\nmin           0.000000    0.000000\n25%           0.200000    2.000000\n50%           0.276315    5.000000\n75%           0.516009    9.000000\nmax           1.921053   50.000000",
            "text/html": "<div>\n<style scoped>\n    .dataframe tbody tr th:only-of-type {\n        vertical-align: middle;\n    }\n\n    .dataframe tbody tr th {\n        vertical-align: top;\n    }\n\n    .dataframe thead th {\n        text-align: right;\n    }\n</style>\n<table border=\"1\" class=\"dataframe\">\n  <thead>\n    <tr style=\"text-align: right;\">\n      <th></th>\n      <th>arithmetic_mean</th>\n      <th>aqi</th>\n    </tr>\n  </thead>\n  <tbody>\n    <tr>\n      <th>count</th>\n      <td>260.000000</td>\n      <td>260.000000</td>\n    </tr>\n    <tr>\n      <th>mean</th>\n      <td>0.403169</td>\n      <td>6.757692</td>\n    </tr>\n    <tr>\n      <th>std</th>\n      <td>0.317902</td>\n      <td>7.061707</td>\n    </tr>\n    <tr>\n      <th>min</th>\n      <td>0.000000</td>\n      <td>0.000000</td>\n    </tr>\n    <tr>\n      <th>25%</th>\n      <td>0.200000</td>\n      <td>2.000000</td>\n    </tr>\n    <tr>\n      <th>50%</th>\n      <td>0.276315</td>\n      <td>5.000000</td>\n    </tr>\n    <tr>\n      <th>75%</th>\n      <td>0.516009</td>\n      <td>9.000000</td>\n    </tr>\n    <tr>\n      <th>max</th>\n      <td>1.921053</td>\n      <td>50.000000</td>\n    </tr>\n  </tbody>\n</table>\n</div>"
          },
          "metadata": {}
        }
      ],
      "execution_count": 9
    },
    {
      "cell_type": "code",
      "source": "epa_data[\"state_name\"].describe()",
      "metadata": {
        "trusted": true
      },
      "outputs": [
        {
          "execution_count": 10,
          "output_type": "execute_result",
          "data": {
            "text/plain": "count            260\nunique            52\ntop       California\nfreq              66\nName: state_name, dtype: object"
          },
          "metadata": {}
        }
      ],
      "execution_count": 10
    },
    {
      "cell_type": "code",
      "source": "np.mean(epa_data[\"aqi\"])",
      "metadata": {
        "trusted": true
      },
      "outputs": [
        {
          "execution_count": 11,
          "output_type": "execute_result",
          "data": {
            "text/plain": "6.757692307692308"
          },
          "metadata": {}
        }
      ],
      "execution_count": 11
    },
    {
      "cell_type": "code",
      "source": "np.median(epa_data[\"aqi\"])",
      "metadata": {
        "trusted": true
      },
      "outputs": [
        {
          "execution_count": 12,
          "output_type": "execute_result",
          "data": {
            "text/plain": "5.0"
          },
          "metadata": {}
        }
      ],
      "execution_count": 12
    },
    {
      "cell_type": "code",
      "source": "np.min(epa_data[\"aqi\"])",
      "metadata": {
        "trusted": true
      },
      "outputs": [
        {
          "execution_count": 13,
          "output_type": "execute_result",
          "data": {
            "text/plain": "0"
          },
          "metadata": {}
        }
      ],
      "execution_count": 13
    },
    {
      "cell_type": "code",
      "source": "np.max(epa_data[\"aqi\"])",
      "metadata": {
        "trusted": true
      },
      "outputs": [
        {
          "execution_count": 14,
          "output_type": "execute_result",
          "data": {
            "text/plain": "50"
          },
          "metadata": {}
        }
      ],
      "execution_count": 14
    },
    {
      "cell_type": "code",
      "source": "np.std(epa_data[\"aqi\"], ddof=1)",
      "metadata": {
        "trusted": true
      },
      "outputs": [
        {
          "execution_count": 15,
          "output_type": "execute_result",
          "data": {
            "text/plain": "7.061706678820724"
          },
          "metadata": {}
        }
      ],
      "execution_count": 15
    },
    {
      "cell_type": "code",
      "source": "",
      "metadata": {
        "trusted": true
      },
      "outputs": [],
      "execution_count": null
    }
  ]
}