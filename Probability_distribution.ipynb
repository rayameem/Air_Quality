{
  "metadata": {
    "kernelspec": {
      "name": "python",
      "display_name": "Python (Pyodide)",
      "language": "python"
    },
    "language_info": {
      "codemirror_mode": {
        "name": "python",
        "version": 3
      },
      "file_extension": ".py",
      "mimetype": "text/x-python",
      "name": "python",
      "nbconvert_exporter": "python",
      "pygments_lexer": "ipython3",
      "version": "3.8"
    }
  },
  "nbformat_minor": 4,
  "nbformat": 4,
  "cells": [
    {
      "cell_type": "code",
      "source": "import numpy as np\nimport pandas as pd\nimport matplotlib.pyplot as plt\nimport statsmodels.api as sm\nfrom scipy import stats",
      "metadata": {
        "trusted": true
      },
      "outputs": [],
      "execution_count": 1
    },
    {
      "cell_type": "code",
      "source": "data = pd.read_csv(r\"7C60vcEpRJGutL3BKfSRSQ_e9845016cb1644cba4dc14b62a7ce3f1_modified_c4_epa_air_quality.csv\")",
      "metadata": {
        "trusted": true
      },
      "outputs": [],
      "execution_count": 6
    },
    {
      "cell_type": "code",
      "source": "data.head(10)",
      "metadata": {
        "trusted": true
      },
      "outputs": [
        {
          "execution_count": 7,
          "output_type": "execute_result",
          "data": {
            "text/plain": "   date_local    state_name   county_name      city_name  \\\n0  2018-01-01       Arizona      Maricopa        Buckeye   \n1  2018-01-01          Ohio       Belmont      Shadyside   \n2  2018-01-01       Wyoming         Teton  Not in a city   \n3  2018-01-01  Pennsylvania  Philadelphia   Philadelphia   \n4  2018-01-01          Iowa          Polk     Des Moines   \n5  2018-01-01        Hawaii      Honolulu  Not in a city   \n6  2018-01-01        Hawaii      Honolulu  Not in a city   \n7  2018-01-01  Pennsylvania          Erie           Erie   \n8  2018-01-01        Hawaii      Honolulu       Honolulu   \n9  2018-01-01      Colorado       Larimer   Fort Collins   \n\n                                     local_site_name   parameter_name  \\\n0                                            BUCKEYE  Carbon monoxide   \n1                                          Shadyside  Carbon monoxide   \n2  Yellowstone National Park - Old Faithful Snow ...  Carbon monoxide   \n3                             North East Waste (NEW)  Carbon monoxide   \n4                                          CARPENTER  Carbon monoxide   \n5                                            Kapolei  Carbon monoxide   \n6                                            Kapolei  Carbon monoxide   \n7                                                NaN  Carbon monoxide   \n8                                           Honolulu  Carbon monoxide   \n9                      Fort Collins - CSU - S. Mason  Carbon monoxide   \n\n    units_of_measure   aqi_log  \n0  Parts per million  2.079442  \n1  Parts per million  1.791759  \n2  Parts per million  1.098612  \n3  Parts per million  1.386294  \n4  Parts per million  1.386294  \n5  Parts per million  2.708050  \n6  Parts per million  1.098612  \n7  Parts per million  1.098612  \n8  Parts per million  1.791759  \n9  Parts per million  1.945910  ",
            "text/html": "<div>\n<style scoped>\n    .dataframe tbody tr th:only-of-type {\n        vertical-align: middle;\n    }\n\n    .dataframe tbody tr th {\n        vertical-align: top;\n    }\n\n    .dataframe thead th {\n        text-align: right;\n    }\n</style>\n<table border=\"1\" class=\"dataframe\">\n  <thead>\n    <tr style=\"text-align: right;\">\n      <th></th>\n      <th>date_local</th>\n      <th>state_name</th>\n      <th>county_name</th>\n      <th>city_name</th>\n      <th>local_site_name</th>\n      <th>parameter_name</th>\n      <th>units_of_measure</th>\n      <th>aqi_log</th>\n    </tr>\n  </thead>\n  <tbody>\n    <tr>\n      <th>0</th>\n      <td>2018-01-01</td>\n      <td>Arizona</td>\n      <td>Maricopa</td>\n      <td>Buckeye</td>\n      <td>BUCKEYE</td>\n      <td>Carbon monoxide</td>\n      <td>Parts per million</td>\n      <td>2.079442</td>\n    </tr>\n    <tr>\n      <th>1</th>\n      <td>2018-01-01</td>\n      <td>Ohio</td>\n      <td>Belmont</td>\n      <td>Shadyside</td>\n      <td>Shadyside</td>\n      <td>Carbon monoxide</td>\n      <td>Parts per million</td>\n      <td>1.791759</td>\n    </tr>\n    <tr>\n      <th>2</th>\n      <td>2018-01-01</td>\n      <td>Wyoming</td>\n      <td>Teton</td>\n      <td>Not in a city</td>\n      <td>Yellowstone National Park - Old Faithful Snow ...</td>\n      <td>Carbon monoxide</td>\n      <td>Parts per million</td>\n      <td>1.098612</td>\n    </tr>\n    <tr>\n      <th>3</th>\n      <td>2018-01-01</td>\n      <td>Pennsylvania</td>\n      <td>Philadelphia</td>\n      <td>Philadelphia</td>\n      <td>North East Waste (NEW)</td>\n      <td>Carbon monoxide</td>\n      <td>Parts per million</td>\n      <td>1.386294</td>\n    </tr>\n    <tr>\n      <th>4</th>\n      <td>2018-01-01</td>\n      <td>Iowa</td>\n      <td>Polk</td>\n      <td>Des Moines</td>\n      <td>CARPENTER</td>\n      <td>Carbon monoxide</td>\n      <td>Parts per million</td>\n      <td>1.386294</td>\n    </tr>\n    <tr>\n      <th>5</th>\n      <td>2018-01-01</td>\n      <td>Hawaii</td>\n      <td>Honolulu</td>\n      <td>Not in a city</td>\n      <td>Kapolei</td>\n      <td>Carbon monoxide</td>\n      <td>Parts per million</td>\n      <td>2.708050</td>\n    </tr>\n    <tr>\n      <th>6</th>\n      <td>2018-01-01</td>\n      <td>Hawaii</td>\n      <td>Honolulu</td>\n      <td>Not in a city</td>\n      <td>Kapolei</td>\n      <td>Carbon monoxide</td>\n      <td>Parts per million</td>\n      <td>1.098612</td>\n    </tr>\n    <tr>\n      <th>7</th>\n      <td>2018-01-01</td>\n      <td>Pennsylvania</td>\n      <td>Erie</td>\n      <td>Erie</td>\n      <td>NaN</td>\n      <td>Carbon monoxide</td>\n      <td>Parts per million</td>\n      <td>1.098612</td>\n    </tr>\n    <tr>\n      <th>8</th>\n      <td>2018-01-01</td>\n      <td>Hawaii</td>\n      <td>Honolulu</td>\n      <td>Honolulu</td>\n      <td>Honolulu</td>\n      <td>Carbon monoxide</td>\n      <td>Parts per million</td>\n      <td>1.791759</td>\n    </tr>\n    <tr>\n      <th>9</th>\n      <td>2018-01-01</td>\n      <td>Colorado</td>\n      <td>Larimer</td>\n      <td>Fort Collins</td>\n      <td>Fort Collins - CSU - S. Mason</td>\n      <td>Carbon monoxide</td>\n      <td>Parts per million</td>\n      <td>1.945910</td>\n    </tr>\n  </tbody>\n</table>\n</div>"
          },
          "metadata": {}
        }
      ],
      "execution_count": 7
    },
    {
      "cell_type": "code",
      "source": "data.shape",
      "metadata": {
        "trusted": true
      },
      "outputs": [
        {
          "execution_count": 8,
          "output_type": "execute_result",
          "data": {
            "text/plain": "(260, 8)"
          },
          "metadata": {}
        }
      ],
      "execution_count": 8
    },
    {
      "cell_type": "code",
      "source": "data[\"aqi_log\"].hist();",
      "metadata": {
        "trusted": true
      },
      "outputs": [
        {
          "output_type": "display_data",
          "data": {
            "text/plain": "<Figure size 640x480 with 1 Axes>",
            "image/png": "[encoded data removed]"
          },
          "metadata": {}
        }
      ],
      "execution_count": 9
    },
    {
      "cell_type": "code",
      "source": "mean_aqi_log = data[\"aqi_log\"].mean()\nprint(mean_aqi_log)",
      "metadata": {
        "trusted": true
      },
      "outputs": [
        {
          "name": "stdout",
          "text": "1.7669210929985582\n",
          "output_type": "stream"
        }
      ],
      "execution_count": 10
    },
    {
      "cell_type": "code",
      "source": "std_aqi_log = data[\"aqi_log\"].std()\nprint(std_aqi_log)",
      "metadata": {
        "trusted": true
      },
      "outputs": [
        {
          "name": "stdout",
          "text": "0.7147155520223721\n",
          "output_type": "stream"
        }
      ],
      "execution_count": 11
    },
    {
      "cell_type": "code",
      "source": "lower_limit = mean_aqi_log - 1 * std_aqi_log\nupper_limit = mean_aqi_log + 1 * std_aqi_log\nprint(lower_limit, upper_limit)",
      "metadata": {
        "trusted": true
      },
      "outputs": [
        {
          "name": "stdout",
          "text": "1.052205540976186 2.4816366450209304\n",
          "output_type": "stream"
        }
      ],
      "execution_count": 12
    },
    {
      "cell_type": "code",
      "source": "((data[\"aqi_log\"] >= lower_limit) & (data[\"aqi_log\"] <= upper_limit)).mean() * 100",
      "metadata": {
        "trusted": true
      },
      "outputs": [
        {
          "execution_count": 13,
          "output_type": "execute_result",
          "data": {
            "text/plain": "76.15384615384615"
          },
          "metadata": {}
        }
      ],
      "execution_count": 13
    },
    {
      "cell_type": "code",
      "source": "lower_limit = mean_aqi_log - 2 * std_aqi_log\nupper_limit = mean_aqi_log + 2 * std_aqi_log\nprint(lower_limit, upper_limit)",
      "metadata": {
        "trusted": true
      },
      "outputs": [
        {
          "name": "stdout",
          "text": "0.3374899889538139 3.1963521970433026\n",
          "output_type": "stream"
        }
      ],
      "execution_count": 14
    },
    {
      "cell_type": "code",
      "source": "((data[\"aqi_log\"] >= lower_limit) & (data[\"aqi_log\"] <= upper_limit)).mean() * 100",
      "metadata": {
        "trusted": true
      },
      "outputs": [
        {
          "execution_count": 15,
          "output_type": "execute_result",
          "data": {
            "text/plain": "95.76923076923077"
          },
          "metadata": {}
        }
      ],
      "execution_count": 15
    },
    {
      "cell_type": "code",
      "source": "lower_limit = mean_aqi_log - 3 * std_aqi_log\nupper_limit = mean_aqi_log + 3 * std_aqi_log\nprint(lower_limit, upper_limit)",
      "metadata": {
        "trusted": true
      },
      "outputs": [
        {
          "name": "stdout",
          "text": "-0.37722556306855815 3.9110677490656744\n",
          "output_type": "stream"
        }
      ],
      "execution_count": 16
    },
    {
      "cell_type": "code",
      "source": "((data[\"aqi_log\"] >= lower_limit) & (data[\"aqi_log\"] <= upper_limit)).mean() * 100",
      "metadata": {
        "trusted": true
      },
      "outputs": [
        {
          "execution_count": 17,
          "output_type": "execute_result",
          "data": {
            "text/plain": "99.61538461538461"
          },
          "metadata": {}
        }
      ],
      "execution_count": 17
    },
    {
      "cell_type": "code",
      "source": "data[\"z_score\"] = stats.zscore(data[\"aqi_log\"], ddof = 1)\ndata.head(5)",
      "metadata": {
        "trusted": true
      },
      "outputs": [
        {
          "execution_count": 19,
          "output_type": "execute_result",
          "data": {
            "text/plain": "   date_local    state_name   county_name      city_name  \\\n0  2018-01-01       Arizona      Maricopa        Buckeye   \n1  2018-01-01          Ohio       Belmont      Shadyside   \n2  2018-01-01       Wyoming         Teton  Not in a city   \n3  2018-01-01  Pennsylvania  Philadelphia   Philadelphia   \n4  2018-01-01          Iowa          Polk     Des Moines   \n\n                                     local_site_name   parameter_name  \\\n0                                            BUCKEYE  Carbon monoxide   \n1                                          Shadyside  Carbon monoxide   \n2  Yellowstone National Park - Old Faithful Snow ...  Carbon monoxide   \n3                             North East Waste (NEW)  Carbon monoxide   \n4                                          CARPENTER  Carbon monoxide   \n\n    units_of_measure   aqi_log   z_score  \n0  Parts per million  2.079442  0.437265  \n1  Parts per million  1.791759  0.034753  \n2  Parts per million  1.098612 -0.935070  \n3  Parts per million  1.386294 -0.532557  \n4  Parts per million  1.386294 -0.532557  ",
            "text/html": "<div>\n<style scoped>\n    .dataframe tbody tr th:only-of-type {\n        vertical-align: middle;\n    }\n\n    .dataframe tbody tr th {\n        vertical-align: top;\n    }\n\n    .dataframe thead th {\n        text-align: right;\n    }\n</style>\n<table border=\"1\" class=\"dataframe\">\n  <thead>\n    <tr style=\"text-align: right;\">\n      <th></th>\n      <th>date_local</th>\n      <th>state_name</th>\n      <th>county_name</th>\n      <th>city_name</th>\n      <th>local_site_name</th>\n      <th>parameter_name</th>\n      <th>units_of_measure</th>\n      <th>aqi_log</th>\n      <th>z_score</th>\n    </tr>\n  </thead>\n  <tbody>\n    <tr>\n      <th>0</th>\n      <td>2018-01-01</td>\n      <td>Arizona</td>\n      <td>Maricopa</td>\n      <td>Buckeye</td>\n      <td>BUCKEYE</td>\n      <td>Carbon monoxide</td>\n      <td>Parts per million</td>\n      <td>2.079442</td>\n      <td>0.437265</td>\n    </tr>\n    <tr>\n      <th>1</th>\n      <td>2018-01-01</td>\n      <td>Ohio</td>\n      <td>Belmont</td>\n      <td>Shadyside</td>\n      <td>Shadyside</td>\n      <td>Carbon monoxide</td>\n      <td>Parts per million</td>\n      <td>1.791759</td>\n      <td>0.034753</td>\n    </tr>\n    <tr>\n      <th>2</th>\n      <td>2018-01-01</td>\n      <td>Wyoming</td>\n      <td>Teton</td>\n      <td>Not in a city</td>\n      <td>Yellowstone National Park - Old Faithful Snow ...</td>\n      <td>Carbon monoxide</td>\n      <td>Parts per million</td>\n      <td>1.098612</td>\n      <td>-0.935070</td>\n    </tr>\n    <tr>\n      <th>3</th>\n      <td>2018-01-01</td>\n      <td>Pennsylvania</td>\n      <td>Philadelphia</td>\n      <td>Philadelphia</td>\n      <td>North East Waste (NEW)</td>\n      <td>Carbon monoxide</td>\n      <td>Parts per million</td>\n      <td>1.386294</td>\n      <td>-0.532557</td>\n    </tr>\n    <tr>\n      <th>4</th>\n      <td>2018-01-01</td>\n      <td>Iowa</td>\n      <td>Polk</td>\n      <td>Des Moines</td>\n      <td>CARPENTER</td>\n      <td>Carbon monoxide</td>\n      <td>Parts per million</td>\n      <td>1.386294</td>\n      <td>-0.532557</td>\n    </tr>\n  </tbody>\n</table>\n</div>"
          },
          "metadata": {}
        }
      ],
      "execution_count": 19
    },
    {
      "cell_type": "code",
      "source": "data[(data[\"z_score\"] > 3 ) | (data[\"z_score\"] < -3)]",
      "metadata": {
        "trusted": true
      },
      "outputs": [
        {
          "execution_count": 20,
          "output_type": "execute_result",
          "data": {
            "text/plain": "     date_local state_name county_name city_name local_site_name  \\\n244  2018-01-01    Arizona    Maricopa   Phoenix    WEST PHOENIX   \n\n      parameter_name   units_of_measure   aqi_log   z_score  \n244  Carbon monoxide  Parts per million  3.931826  3.029044  ",
            "text/html": "<div>\n<style scoped>\n    .dataframe tbody tr th:only-of-type {\n        vertical-align: middle;\n    }\n\n    .dataframe tbody tr th {\n        vertical-align: top;\n    }\n\n    .dataframe thead th {\n        text-align: right;\n    }\n</style>\n<table border=\"1\" class=\"dataframe\">\n  <thead>\n    <tr style=\"text-align: right;\">\n      <th></th>\n      <th>date_local</th>\n      <th>state_name</th>\n      <th>county_name</th>\n      <th>city_name</th>\n      <th>local_site_name</th>\n      <th>parameter_name</th>\n      <th>units_of_measure</th>\n      <th>aqi_log</th>\n      <th>z_score</th>\n    </tr>\n  </thead>\n  <tbody>\n    <tr>\n      <th>244</th>\n      <td>2018-01-01</td>\n      <td>Arizona</td>\n      <td>Maricopa</td>\n      <td>Phoenix</td>\n      <td>WEST PHOENIX</td>\n      <td>Carbon monoxide</td>\n      <td>Parts per million</td>\n      <td>3.931826</td>\n      <td>3.029044</td>\n    </tr>\n  </tbody>\n</table>\n</div>"
          },
          "metadata": {}
        }
      ],
      "execution_count": 20
    },
    {
      "cell_type": "code",
      "source": "",
      "metadata": {
        "trusted": true
      },
      "outputs": [],
      "execution_count": null
    }
  ]
}