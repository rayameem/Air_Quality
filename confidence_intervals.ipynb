{
  "metadata": {
    "kernelspec": {
      "name": "python",
      "display_name": "Python (Pyodide)",
      "language": "python"
    },
    "language_info": {
      "codemirror_mode": {
        "name": "python",
        "version": 3
      },
      "file_extension": ".py",
      "mimetype": "text/x-python",
      "name": "python",
      "nbconvert_exporter": "python",
      "pygments_lexer": "ipython3",
      "version": "3.8"
    }
  },
  "nbformat_minor": 4,
  "nbformat": 4,
  "cells": [
    {
      "cell_type": "code",
      "source": "## summary of the mean AQI \n## Construct a boxplot visualization for AQI \n## Evaluate based on the data and boxplot visualization.\n## Construct a confidence interval ",
      "metadata": {
        "trusted": true
      },
      "outputs": [],
      "execution_count": 1
    },
    {
      "cell_type": "code",
      "source": "import pandas as pd\nimport numpy as np",
      "metadata": {
        "trusted": true
      },
      "outputs": [],
      "execution_count": 2
    },
    {
      "cell_type": "code",
      "source": "aqi = pd.read_csv(r\"K6dWbZwmSXCnVm2cJklwng_867ace16e19e49ec88e68cc191e66af1_c4_epa_air_quality.csv\")",
      "metadata": {
        "trusted": true
      },
      "outputs": [],
      "execution_count": 3
    },
    {
      "cell_type": "code",
      "source": "print(\"Use describe() to summarize AQI\")\nprint(aqi.describe(include='all'))\n\nprint(\"For a more thorough examination of observations by state use values_counts()\")\nprint(aqi['state_name'].value_counts())",
      "metadata": {
        "trusted": true
      },
      "outputs": [
        {
          "name": "stdout",
          "text": "Use describe() to summarize AQI\n        Unnamed: 0  date_local  state_name  county_name      city_name  \\\ncount   260.000000         260         260          260            260   \nunique         NaN           1          52          149            190   \ntop            NaN  2018-01-01  California  Los Angeles  Not in a city   \nfreq           NaN         260          66           14             21   \nmean    129.500000         NaN         NaN          NaN            NaN   \nstd      75.199734         NaN         NaN          NaN            NaN   \nmin       0.000000         NaN         NaN          NaN            NaN   \n25%      64.750000         NaN         NaN          NaN            NaN   \n50%     129.500000         NaN         NaN          NaN            NaN   \n75%     194.250000         NaN         NaN          NaN            NaN   \nmax     259.000000         NaN         NaN          NaN            NaN   \n\n       local_site_name   parameter_name   units_of_measure  arithmetic_mean  \\\ncount              257              260                260       260.000000   \nunique             253                1                  1              NaN   \ntop            Kapolei  Carbon monoxide  Parts per million              NaN   \nfreq                 2              260                260              NaN   \nmean               NaN              NaN                NaN         0.403169   \nstd                NaN              NaN                NaN         0.317902   \nmin                NaN              NaN                NaN         0.000000   \n25%                NaN              NaN                NaN         0.200000   \n50%                NaN              NaN                NaN         0.276315   \n75%                NaN              NaN                NaN         0.516009   \nmax                NaN              NaN                NaN         1.921053   \n\n               aqi  \ncount   260.000000  \nunique         NaN  \ntop            NaN  \nfreq           NaN  \nmean      6.757692  \nstd       7.061707  \nmin       0.000000  \n25%       2.000000  \n50%       5.000000  \n75%       9.000000  \nmax      50.000000  \nFor a more thorough examination of observations by state use values_counts()\nCalifornia              66\nArizona                 14\nOhio                    12\nFlorida                 12\nTexas                   10\nNew York                10\nPennsylvania            10\nMichigan                 9\nColorado                 9\nMinnesota                7\nNew Jersey               6\nIndiana                  5\nNorth Carolina           4\nMassachusetts            4\nMaryland                 4\nOklahoma                 4\nVirginia                 4\nNevada                   4\nConnecticut              4\nKentucky                 3\nMissouri                 3\nWyoming                  3\nIowa                     3\nHawaii                   3\nUtah                     3\nVermont                  3\nIllinois                 3\nNew Hampshire            2\nDistrict Of Columbia     2\nNew Mexico               2\nMontana                  2\nOregon                   2\nAlaska                   2\nGeorgia                  2\nWashington               2\nIdaho                    2\nNebraska                 2\nRhode Island             2\nTennessee                2\nMaine                    2\nSouth Carolina           1\nPuerto Rico              1\nArkansas                 1\nKansas                   1\nMississippi              1\nAlabama                  1\nLouisiana                1\nDelaware                 1\nSouth Dakota             1\nWest Virginia            1\nNorth Dakota             1\nWisconsin                1\nName: state_name, dtype: int64\n",
          "output_type": "stream"
        }
      ],
      "execution_count": 4
    },
    {
      "cell_type": "code",
      "source": "rre_states = ['California','Florida','Michigan','Ohio','Pennsylvania','Texas']\n\naqi_rre = aqi[aqi['state_name'].isin(rre_states)]\n\naqi_rre.groupby([\"state_name\"]).agg({\"aqi\":\"mean\",\"state_name\":\"count\"})",
      "metadata": {
        "trusted": true
      },
      "outputs": [
        {
          "execution_count": 5,
          "output_type": "execute_result",
          "data": {
            "text/plain": "                    aqi  state_name\nstate_name                         \nCalifornia    12.121212          66\nFlorida        5.500000          12\nMichigan       8.111111           9\nOhio           3.333333          12\nPennsylvania   2.900000          10\nTexas          2.700000          10",
            "text/html": "<div>\n<style scoped>\n    .dataframe tbody tr th:only-of-type {\n        vertical-align: middle;\n    }\n\n    .dataframe tbody tr th {\n        vertical-align: top;\n    }\n\n    .dataframe thead th {\n        text-align: right;\n    }\n</style>\n<table border=\"1\" class=\"dataframe\">\n  <thead>\n    <tr style=\"text-align: right;\">\n      <th></th>\n      <th>aqi</th>\n      <th>state_name</th>\n    </tr>\n    <tr>\n      <th>state_name</th>\n      <th></th>\n      <th></th>\n    </tr>\n  </thead>\n  <tbody>\n    <tr>\n      <th>California</th>\n      <td>12.121212</td>\n      <td>66</td>\n    </tr>\n    <tr>\n      <th>Florida</th>\n      <td>5.500000</td>\n      <td>12</td>\n    </tr>\n    <tr>\n      <th>Michigan</th>\n      <td>8.111111</td>\n      <td>9</td>\n    </tr>\n    <tr>\n      <th>Ohio</th>\n      <td>3.333333</td>\n      <td>12</td>\n    </tr>\n    <tr>\n      <th>Pennsylvania</th>\n      <td>2.900000</td>\n      <td>10</td>\n    </tr>\n    <tr>\n      <th>Texas</th>\n      <td>2.700000</td>\n      <td>10</td>\n    </tr>\n  </tbody>\n</table>\n</div>"
          },
          "metadata": {}
        }
      ],
      "execution_count": 5
    },
    {
      "cell_type": "code",
      "source": "%pip install seaborn\nimport seaborn as sns",
      "metadata": {
        "trusted": true,
        "scrolled": true
      },
      "outputs": [],
      "execution_count": 8
    },
    {
      "cell_type": "code",
      "source": "sns.boxplot(x=aqi_rre[\"state_name\"], y=aqi_rre[\"aqi\"]);",
      "metadata": {
        "trusted": true
      },
      "outputs": [
        {
          "output_type": "display_data",
          "data": {
            "text/plain": "<Figure size 640x480 with 1 Axes>",
            "image/png": "[encoded data removed]"
          },
          "metadata": {}
        }
      ],
      "execution_count": 9
    },
    {
      "cell_type": "code",
      "source": "aqi_ca = aqi[aqi[\"state_name\"] == \"California\"]\nsample_mean = aqi_ca[\"aqi\"].mean()\nsample_mean",
      "metadata": {
        "trusted": true
      },
      "outputs": [
        {
          "execution_count": 10,
          "output_type": "execute_result",
          "data": {
            "text/plain": "12.121212121212121"
          },
          "metadata": {}
        }
      ],
      "execution_count": 10
    },
    {
      "cell_type": "code",
      "source": "confidence_level = 0.95\nconfidence_level",
      "metadata": {
        "trusted": true
      },
      "outputs": [
        {
          "execution_count": 11,
          "output_type": "execute_result",
          "data": {
            "text/plain": "0.95"
          },
          "metadata": {}
        }
      ],
      "execution_count": 11
    },
    {
      "cell_type": "code",
      "source": "z_value = 1.96\n\nstandard_error = aqi_ca[\"aqi\"].std() / np.sqrt(aqi_ca.shape[0])\nprint(\"standard error:\")\nprint(standard_error)\n\nmargin_of_error = standard_error * z_value\nprint(\"marging of error:\")\nprint(margin_of_error)",
      "metadata": {
        "trusted": true
      },
      "outputs": [
        {
          "name": "stdout",
          "text": "standard error:\n0.8987209641127412\nmarging of error:\n1.7614930896609726\n",
          "output_type": "stream"
        }
      ],
      "execution_count": 12
    },
    {
      "cell_type": "code",
      "source": "upper_ci_limit = sample_mean + margin_of_error\nlower_ci_limit = sample_mean - margin_of_error\n(lower_ci_limit, upper_ci_limit)",
      "metadata": {
        "trusted": true
      },
      "outputs": [
        {
          "execution_count": 13,
          "output_type": "execute_result",
          "data": {
            "text/plain": "(10.359719031551148, 13.882705210873095)"
          },
          "metadata": {}
        }
      ],
      "execution_count": 13
    },
    {
      "cell_type": "code",
      "source": "from scipy import stats ",
      "metadata": {
        "trusted": true
      },
      "outputs": [],
      "execution_count": 14
    },
    {
      "cell_type": "code",
      "source": "stats.norm.interval(confidence = confidence_level, loc=sample_mean, scale=standard_error)",
      "metadata": {
        "trusted": true
      },
      "outputs": [
        {
          "execution_count": 19,
          "output_type": "execute_result",
          "data": {
            "text/plain": "(10.359751399400034, 13.882672843024208)"
          },
          "metadata": {}
        }
      ],
      "execution_count": 19
    },
    {
      "cell_type": "code",
      "source": "",
      "metadata": {
        "trusted": true
      },
      "outputs": [],
      "execution_count": null
    }
  ]
}